{
 "cells": [
  {
   "cell_type": "markdown",
   "metadata": {
    "tags": []
   },
   "source": [
    "# Discussion / Conclusion \n",
    "\n",
    "Is ML the right tool for the research?/How to identify the best ML tool for my problem? \n",
    "Can a simple model be as good as a complex one? ML model discovery \t\t\t\n",
    "Do I have enough confidence to extrapolate the results? Is the model transferable?\t\n",
    "\n",
    "### Conclusion\n",
    "The model supports the realization of near-real-time SWE predictions across the domain, leveraging the most recent available data.\n",
    "The model currently generates approximately 20,000 1-km grid SWE inferences throughout the western US, defined by the Bureau of Reclamation (USBR) as part of the Snowcast Showdown (\\url{www.drivendata.org/competitions/86/competition-reclamation-snow-water-dev/page/414/}), with many locations collocated with NASA ASO missions.\n",
    "While the provided coordinates determine current model prediction grids, future work will extend the spatial coverage and develop scaling methods to better support water resources management (e.g., HUC6, 8,10 watershed SWE), with a motivation to provide novel tools for quantifying the volume of water stored snow within mountainous supply catchments.\n",
    "As part of the ML workflow, future work targets a full-stack product by leveraging the Tethys interface (\\citealp{swain2015review}) and supporting a browser-based interactive use of the results and catchment SWE products.\n",
    "\n",
    "\\section{Conclusion}\n",
    "The research introduces a novel multi-phase deep learning ML model for optimized prediction of large-scale spatial SWE values across the western US. \n",
    "Through a coupling of two popular ML algorithms, LightGBM and MLP regression, the model produces increased efficiencies through feature space optimization and produces more accurate predictions than with either algorithm alone. \n",
    "Built on open-source software and requiring only publicly available input variables of topographic data and past observations, the model effectively realizes 1-km gridded SWE with low RMSE and high $R\\textsuperscript{2}$ values for approximately 20,000 km\\textsuperscript{2} of the western U.S. \n",
    "Though limited by the spatial domain and training data record in its current phase, we see the framework serving as a foundation for novel Hydro-ML SWE estimation up to the CONUS scale. \n",
    "Future work shall implement more data sources such as climatological and multi-spectral imagery, as well as extended historical records to support model prediction. \n",
    "A key motivation is to seamlessly extend coverage  to all of the CONUS, and ultimately the entire US. \n",
    "Investigation and incorporation of specific sub-region dynamics such as within the atmospherically complex Sierra Nevada mountains can lead to increased model efficiencies amongst the individual model regions. \n",
    "Furthermore, the inclusion of near-real-time SWE estimates established from the model process into hydrological forecasting models may lead to more efficient water resources management and improvements in the understanding of snow-fed catchment dynamics.\n",
    "\n",
    "\n",
    "\n",
    "### Discussion\n",
    "This chapter has two parts: lessons learnt and open questions. \n",
    "\n",
    "Learns learnt should summerize the new stuff we learn from this use case of AI. What new contribution does AI give to solve this problem? Is it good enough to achieve your expected goal? What part of work is unexpected before you dive in? Do you think the model can work in your production environment? etc.\n",
    "\n",
    "Open questions should focus on future possibilities like if your team wants to adopt this model, what else you should do to make it fully work? How should we better tackle the data bias problem? How should we address the generalization issue on spatial and temporal extent in practice?\n",
    "\n",
    "Please elaborate a little bit on these questions with your real thoughts, which will be very helpful for us to tell the final story to students. \n",
    "\n",
    "\n",
    "Aiming to improve model robustness, we investigated the incorporation of climatological data from the National Oceanic and Atmospheric Administration's (NOAA) High-Resolution Rapid Refresh dataset (HRRR) and multispectral imagery from the Sentinal-1 remote sensing satellite mission. \n",
    "However, the large computational resources required to load and process the data became limiting to the production of expeditious SWE estimates at scale.\n",
    "The limitations were the result of the large-memory tiled datasets and the need for point-scale architecture required by the ML models to train, test, and predict. \n",
    "The data processing requirements to convert observations into training datasets became computationally expensive and unfeasible for fast-paced development, even for high-performance computing.\n",
    "Hence, in its presented state, model formulation does not include temperature or precipitation data. \n",
    "The weekly accumulation of precipitation is pseudo-captured in the model by the derived delta-SWE feature. \n",
    "Within this feature, the change in measured SWE from the previous to the current week at monitoring stations is represented and can inform nearby prediction locations of the trend in precipitation.  \n",
    "\n",
    "\n",
    "\n",
    "\n",
    "\n",
    "\n",
    "\n",
    "Next [Chapter](./questions.ipynb)\n"
   ]
  },
  {
   "cell_type": "code",
   "execution_count": null,
   "metadata": {},
   "outputs": [],
   "source": []
  }
 ],
 "metadata": {
  "kernelspec": {
   "display_name": "Python 3 (ipykernel)",
   "language": "python",
   "name": "python3"
  },
  "language_info": {
   "codemirror_mode": {
    "name": "ipython",
    "version": 3
   },
   "file_extension": ".py",
   "mimetype": "text/x-python",
   "name": "python",
   "nbconvert_exporter": "python",
   "pygments_lexer": "ipython3",
   "version": "3.9.12"
  },
  "vscode": {
   "interpreter": {
    "hash": "c446eef832ec964573dc49f36fd16bdbed40cbfbefbf557bc2dc78d9e7968689"
   }
  }
 },
 "nbformat": 4,
 "nbformat_minor": 4
}
