{
 "cells": [
  {
   "cell_type": "markdown",
   "id": "96b6aa39",
   "metadata": {},
   "source": [
    "# Support and Help\n",
    "\n",
    "Need help getting started or using a project? Here's how.\n",
    "\n",
    "## How to get help\n",
    "\n",
    "Generally, we do not use GitHub as a support forum. \n",
    "For any usage questions that are not specific to the project itself, please ask on [Stack Overflow](https://stackoverflow.com) instead. \n",
    "By doing so, you are more likely to quickly solve your problem, and you will allow anyone else with the same question to find the answer. This also allows maintainers to focus on improving the project for others.\n",
    "\n",
    "Please seek support in the following ways:\n",
    "\n",
    "1. :book: **Read the documentation and other guides** for the project to see if you can figure it out on your own. These should be located in a root `docs/` directory. If there is an example project, explore that to learn how it works to see if you can answer your question.\n",
    "\n",
    "1. :bulb: **Search for answers and ask questions on [Stack Overflow](https://stackoverflow.com).** \n",
    "This is the most appropriate place for debugging issues specific to your use of the project, or figuring out how to use the project in a specific way.\n",
    "\n",
    "1. :memo: As a **last resort**, you may open an issue on GitHub to ask for help. \n",
    "However, please clearly explain what you are trying to do, and list what you have already attempted to solve the problem. Provide code samples, but **do not** attach your entire project for someone else to debug. \n",
    "\n",
    "## What NOT to do \n",
    "\n",
    "Please **do not** do any the following:\n",
    "\n",
    "1. :x: Do not reach out to the author or contributor on Twitter (or other social media) by tweeting or sending a direct message.\n",
    "\n",
    "1. :x: Do not open duplicate issues or litter an existing issue with +1's.\n",
    "\n",
    "These are not appropriate avenues for seeking help or support with an open-source project. Please follow the guidelines in the previous section. Public questions get public answers, which benefits everyone in the community. ✌️\n",
    "\n",
    "## Customer Support\n",
    "\n",
    "We do not provide any sort of \"customer support\" for open-source projects. "
   ]
  },
  {
   "cell_type": "code",
   "execution_count": null,
   "id": "224bdcd5",
   "metadata": {},
   "outputs": [],
   "source": []
  }
 ],
 "metadata": {
  "kernelspec": {
   "display_name": "NSM_env",
   "language": "python",
   "name": "nsm_env"
  },
  "language_info": {
   "codemirror_mode": {
    "name": "ipython",
    "version": 3
   },
   "file_extension": ".py",
   "mimetype": "text/x-python",
   "name": "python",
   "nbconvert_exporter": "python",
   "pygments_lexer": "ipython3",
   "version": "3.9.12"
  }
 },
 "nbformat": 4,
 "nbformat_minor": 5
}
