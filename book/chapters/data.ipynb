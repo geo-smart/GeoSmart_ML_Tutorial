{
 "cells": [
  {
   "cell_type": "markdown",
   "metadata": {
    "tags": []
   },
   "source": [
    "# Data Preparation\n",
    "\n",
    "Data description include source, size, type, attributes, modality, etc. Data retrieval from community data centers, personal cloud storage, or published datasets. Feature extraction and engineering.\n",
    "\n",
    "Model training data uses data from the following sources National Resource Conservation Service (NRCS) Snow Telemetry (SNOTEL), California Data Exchange Center (CDEC), and Copernicus 90-m DEM.\n",
    "In addition to these data sources, we create feature based upon the water year weak, latitude, longitude, and elevation.\n",
    "From these data sources we created the following features for input into the machine learning models.\n",
    "\n",
    "|Feature id| Description|\n",
    " |:-----------: | :--------: |\n",
    " |WY Week | Numerical ID of the week of the water year|\n",
    " |Latitude | Center latitude of the training grid cell |\n",
    " |Longitude | Center longitude of the training grid cell|\n",
    " |Elevation | DEM elevation of the training grid cell |\n",
    " |Northness | Calculated northness of the training cell|\n",
    " |Previous SWE | Model predicted SWE from previous week|\n",
    " \n",
    " ## SNOTEL and CDEC Snow Monitoring Data\n",
    " \n",
    " <img align = 'right' src=\"Images/SNOTEL.jpg\" alt = 'drawing' width = '400'/>\n",
    "SNOTEL is an automated system of snowpack and related climate sensors operated by the Natural Resources Conservation Service (NRCS) that record key snow and hydrometeorological components and transmit observations via a telemetry netrwork. \n",
    "There are over 800 SNOTEL sites distributed accross the western US and Alaska, and have become standard climate information to understand snowpack dynamics and estimate water supply. \n",
    "Standard SNOTEL sites include a pressure sensing snow pillow to measure SWE based on hydrostatic pressure created by overlying snow, snow depth, storage precipitation gauge, and air temperature sensor.  \n",
    "System data-loggers provide functions for computing daily maximum, minimum, and average temperature information from data recorded every 15 minutes. \n",
    "\n",
    "SNOTEL central computer receives all monitoring station information and transmits to the Centralized Forecasting System (CFS). \n",
    "The CFS maintains the data is in a relational database, supporting analysis and graphics programs for data analytics.\n",
    "The system supports data retreival of current and historical data for analyses.\n",
    "\n",
    "\n"
   ]
  },
  {
   "cell_type": "code",
   "execution_count": 1,
   "metadata": {},
   "outputs": [],
   "source": [
    "#required modules\n",
    "\n",
    "import numpy as np\n",
    "import pandas as pd\n",
    "import ulmo\n",
    "from datetime import timedelta\n",
    "\n",
    "def get_SNOTEL(sitecode, start_date, end_date):\n",
    "\n",
    "    #This is the latest CUAHSI API endpoint\n",
    "    wsdlurl = 'https://hydroportal.cuahsi.org/Snotel/cuahsi_1_1.asmx?WSDL'\n",
    "\n",
    "    #Daily SWE\n",
    "    variablecode = 'SNOTEL:WTEQ_D'\n",
    "\n",
    "    values_df = None\n",
    "    try:\n",
    "        #Request data from the server\n",
    "        site_values = ulmo.cuahsi.wof.get_values(wsdlurl, sitecode, variablecode, start=start_date, end=end_date)\n",
    "        end_date=end_date.strftime('%Y-%m-%d')\n",
    "        #Convert to a Pandas DataFrame   \n",
    "        SNOTEL_SWE = pd.DataFrame.from_dict(site_values['values'])\n",
    "        #Parse the datetime values to Pandas Timestamp objects\n",
    "        SNOTEL_SWE['datetime'] = pd.to_datetime(SNOTEL_SWE['datetime'], utc=True)\n",
    "        #Set the DataFrame index to the Timestamps\n",
    "        SNOTEL_SWE = SNOTEL_SWE.set_index('datetime')\n",
    "        #Convert values to float and replace -9999 nodata values with NaN\n",
    "        SNOTEL_SWE['value'] = pd.to_numeric(SNOTEL_SWE['value']).replace(-9999, np.nan)\n",
    "        #Remove any records flagged with lower quality\n",
    "        SNOTEL_SWE = SNOTEL_SWE[SNOTEL_SWE['quality_control_level_code'] == '1']\n",
    "\n",
    "        SNOTEL_SWE['station_id'] = sitecode\n",
    "        SNOTEL_SWE.index = SNOTEL_SWE.station_id\n",
    "        SNOTEL_SWE = SNOTEL_SWE.rename(columns = {'value':end_date})\n",
    "        col = [end_date]\n",
    "        SNOTEL_SWE = SNOTEL_SWE[col].iloc[-1:]\n",
    "        \n",
    "    except:\n",
    "        print('Unable to fetch SWE data for site ', sitecode, 'SWE value: -9999')\n",
    "        end_date=end_date.strftime('%Y-%m-%d')\n",
    "        SNOTEL_SWE = pd.DataFrame(-9999, columns = ['station_id', end_date], index =[1])\n",
    "        SNOTEL_SWE['station_id'] = sitecode\n",
    "        SNOTEL_SWE = SNOTEL_SWE.set_index('station_id')\n",
    "\n",
    "\n",
    "    return SNOTEL_SWE"
   ]
  },
  {
   "cell_type": "markdown",
   "metadata": {},
   "source": [
    "Code for retreiving SNOTEL data. \n",
    "Data retreival takes in the appropriate url, site code, start date, and end date. \n",
    "For the machine learning model, SNOTEL data retreival is set to grab the most recent daily observation.\n"
   ]
  },
  {
   "cell_type": "code",
   "execution_count": null,
   "metadata": {},
   "outputs": [],
   "source": [
    "#This is the latest CUAHSI API endpoint\n",
    "wsdlurl = 'https://hydroportal.cuahsi.org/Snotel/cuahsi_1_1.asmx?WSDL'\n",
    "\n",
    "#Daily SWE\n",
    "variablecode = 'SNOTEL:WTEQ_D'\n",
    "\n",
    "values_df = None\n",
    "\n",
    "#Request data from the server\n",
    "site_values = ulmo.cuahsi.wof.get_values(wsdlurl, sitecode, variablecode, start=start_date, end=end_date)\n"
   ]
  },
  {
   "cell_type": "markdown",
   "metadata": {},
   "source": [
    "Find a SNOTEL site of interest"
   ]
  },
  {
   "cell_type": "code",
   "execution_count": 2,
   "metadata": {},
   "outputs": [
    {
     "data": {
      "text/html": [
       "<div>\n",
       "<style scoped>\n",
       "    .dataframe tbody tr th:only-of-type {\n",
       "        vertical-align: middle;\n",
       "    }\n",
       "\n",
       "    .dataframe tbody tr th {\n",
       "        vertical-align: top;\n",
       "    }\n",
       "\n",
       "    .dataframe thead th {\n",
       "        text-align: right;\n",
       "    }\n",
       "</style>\n",
       "<table border=\"1\" class=\"dataframe\">\n",
       "  <thead>\n",
       "    <tr style=\"text-align: right;\">\n",
       "      <th></th>\n",
       "      <th>2023-01-20</th>\n",
       "    </tr>\n",
       "    <tr>\n",
       "      <th>station_id</th>\n",
       "      <th></th>\n",
       "    </tr>\n",
       "  </thead>\n",
       "  <tbody>\n",
       "    <tr>\n",
       "      <th>SNOTEL:766_UT_SNTL</th>\n",
       "      <td>33.7</td>\n",
       "    </tr>\n",
       "  </tbody>\n",
       "</table>\n",
       "</div>"
      ],
      "text/plain": [
       "                    2023-01-20\n",
       "station_id                    \n",
       "SNOTEL:766_UT_SNTL        33.7"
      ]
     },
     "execution_count": 2,
     "metadata": {},
     "output_type": "execute_result"
    }
   ],
   "source": [
    "#Snowbird SNOTEL site\n",
    "sitecode= 'SNOTEL:766_UT_SNTL'\n",
    "#Get observational data for one day\n",
    "end_date= pd.to_datetime('today')\n",
    "start_date= end_date - timedelta(days=7)\n",
    "\n",
    "#set time to year -  month - day\n",
    "#end_date = end_date.strftime('%Y-%m-%d')\n",
    "#start_date = start_date.strftime('%Y-%m-%d')\n",
    "\n",
    "\n",
    "get_SNOTEL(sitecode, start_date, end_date)"
   ]
  },
  {
   "cell_type": "markdown",
   "metadata": {},
   "source": []
  },
  {
   "cell_type": "code",
   "execution_count": null,
   "metadata": {},
   "outputs": [],
   "source": []
  },
  {
   "cell_type": "code",
   "execution_count": null,
   "metadata": {},
   "outputs": [],
   "source": [
    "def get_CDEC(self, station_id, sensor_id, resolution, start_date, end_date ):\n",
    "\n",
    "    try:\n",
    "        url = 'https://cdec.water.ca.gov/dynamicapp/selectQuery?Stations=%s' % (station_id)+'&SensorNums=%s' % (sensor_id)+'&dur_code=%s'% (resolution) +'&Start=%s' % (start_date) + '&End=%s' %(end_date) \n",
    "        CDEC_SWE = pd.read_html(url)[0]\n",
    "        CDEC_SWE['station_id'] = 'CDEC:'+station_id\n",
    "        CDEC_SWE = CDEC_SWE.set_index('station_id')\n",
    "        CDEC_SWE = pd.DataFrame(CDEC_SWE.iloc[-1]).T\n",
    "        col = ['SNOW WC INCHES']\n",
    "        CDEC_SWE = CDEC_SWE[col]\n",
    "        CDEC_SWE=CDEC_SWE.rename(columns = {'SNOW WC INCHES':end_date})\n",
    "\n",
    "    except:\n",
    "        print('Unable to fetch SWE data for site ', station_id, 'SWE value: -9999')\n",
    "        CDEC_SWE = pd.DataFrame(-9999, columns = ['station_id', end_date], index =[1])\n",
    "        CDEC_SWE['station_id'] = 'CDEC:'+station_id\n",
    "        CDEC_SWE = CDEC_SWE.set_index('station_id')\n",
    "\n",
    "\n",
    "\n",
    "    return CDEC_SWE"
   ]
  },
  {
   "cell_type": "markdown",
   "metadata": {},
   "source": [
    "<b> To the authors' knowledge, there is not currenlty available python package supporting CDEC SWE data retreival. This code takes in the appropriate url, station id, sensor id, temporal resolution, start date, and end date to retrieve the data of interest. </b>"
   ]
  }
 ],
 "metadata": {
  "kernelspec": {
   "display_name": "NSM_env",
   "language": "python",
   "name": "nsm_env"
  },
  "language_info": {
   "codemirror_mode": {
    "name": "ipython",
    "version": 3
   },
   "file_extension": ".py",
   "mimetype": "text/x-python",
   "name": "python",
   "nbconvert_exporter": "python",
   "pygments_lexer": "ipython3",
   "version": "3.9.12"
  },
  "vscode": {
   "interpreter": {
    "hash": "c446eef832ec964573dc49f36fd16bdbed40cbfbefbf557bc2dc78d9e7968689"
   }
  }
 },
 "nbformat": 4,
 "nbformat_minor": 4
}
