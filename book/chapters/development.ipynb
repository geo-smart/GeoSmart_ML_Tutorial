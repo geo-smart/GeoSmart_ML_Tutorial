{
 "cells": [
  {
   "cell_type": "markdown",
   "metadata": {
    "tags": []
   },
   "source": [
    "# Model Development and Paramter Tuning\n",
    "\n",
    "Explain the effects of parameter tuning and how it was performed. If you used a tool to perform automatic tuning , explaing that as well. If it is the case, explain model under or over fitting and the consequences.\n",
    "\n",
    "## Study Area Description\n",
    "\n",
    "Model developmnet leverage data from SNOTEL sites located throughout 11 states ranging from the US-Canada border to the US-Mexico border and from the Pacific coast to the eastern slope of the Rocky Mountains to establish the study periphery.\n",
    "The modeling domain includes all major mountain ranges but contains a greater portion of observations within the Sierra Nevada and the Rocky Mountains, where the water supply is dominated by seasonal snowpack and ongoing efforts by the Airborne Snow Observatory (ASO) provide ample data for data-driven model development.\n",
    "\n",
    "## Machine Learning Approach\n",
    "\n",
    "Snow falls different accross the western US, and thus, was decided upon to develop a distributed ML SWE estimation model addressing the unique hydrometeorological variability observed in the modeling doamain.\n",
    "For example, the western U.S. contains snow climate classifications of coastal, coastal transitional, intermountain, and continental.\n",
    "The modeling framework addresses the heterogeneity in snow processes through the the division of the study area into 23 regional locations. \n",
    "Dividing the model into sub-regions allows for the separation of microclimates to reduce the influence of individual region dynamics on differing regions during model training. \n",
    "\n",
    "<img align = 'center' src=\"./Images/Distribution.jpg\" alt = 'drawing' width = '1000'/>\n",
    "\n",
    "\n",
    "### Data\n",
    "Machine learning models \"learn\" the relationships between independent and dependent variables through large amounts of data.\n",
    "Data sourced for the model consisted of geographic and topographic information from the Copernicus Digital Elevation Model (90-m DEM) and ground measurement data from the NRCS Snow Telemetry and Snow Course program (i.e., SNOTEL), as well as from the California Department of Water Resources California Data Exchange Center (CDEC). \n",
    "In total, geographic and weekly SWE observational data from 594 SNOTEL sites and 106 CDEC sites from 2013-2017 are collated.\n",
    "Weekly observations of the most recent date available at the same locations support near-real-time model inference. \n",
    "\n",
    "Model development investigated the use of climatological data from the National Oceanic and Atmospheric Administration's (NOAA) High-Resolution Rapid Refresh dataset (HRRR) and multispectral imagery from the Sentinal-1 remote sensing satellite mission. \n",
    "However, the large computational resources required to load and process the data became limiting to the production of expeditious SWE estimates at scale.\n",
    "The limitations were the result of the large-memory tiled datasets and the need for point-scale architecture required by the ML models to train, test, and predict.\n",
    "The data processing requirements to convert observations into training datasets are computationally expensive and unfeasible for fast-paced development, even for high-performance computing. \n",
    "\n",
    "<img align = 'center' src=\"Images/Distribution_locations_number.jpg\" alt = 'drawing' width = '1000'/>\n",
    "\n"
   ]
  },
  {
   "cell_type": "code",
   "execution_count": null,
   "metadata": {},
   "outputs": [],
   "source": []
  }
 ],
 "metadata": {
  "kernelspec": {
   "display_name": "Python 3 (ipykernel)",
   "language": "python",
   "name": "python3"
  },
  "language_info": {
   "codemirror_mode": {
    "name": "ipython",
    "version": 3
   },
   "file_extension": ".py",
   "mimetype": "text/x-python",
   "name": "python",
   "nbconvert_exporter": "python",
   "pygments_lexer": "ipython3",
   "version": "3.9.12"
  },
  "vscode": {
   "interpreter": {
    "hash": "c446eef832ec964573dc49f36fd16bdbed40cbfbefbf557bc2dc78d9e7968689"
   }
  }
 },
 "nbformat": 4,
 "nbformat_minor": 4
}
