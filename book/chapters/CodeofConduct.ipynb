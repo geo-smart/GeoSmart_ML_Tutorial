{
 "cells": [
  {
   "cell_type": "markdown",
   "id": "0a063fc8",
   "metadata": {},
   "source": [
    "# Contributor Covenant Code of Conduct\n",
    "\n",
    "## Our Pledge\n",
    "\n",
    "In the interest of fostering an open and welcoming environment, we as contributors and maintainers pledge to making participation in our project and our community a harassment-free experience for everyone, regardless of age, body size, disability, ethnicity, sex characteristics, gender identity and expression, level of experience, education, socio-economic status, nationality, personal appearance, race, religion, or sexual identity and orientation.\n",
    "\n",
    "## Our Standards\n",
    "\n",
    "Examples of behavior that contributes to creating a positive environment\n",
    "include:\n",
    "\n",
    "* Using welcoming and inclusive language\n",
    "* Being respectful of differing viewpoints and experiences\n",
    "* Gracefully accepting constructive criticism\n",
    "* Focusing on what is best for the community\n",
    "* Showing empathy towards other community members\n",
    "\n",
    "## Our Responsibilities\n",
    "\n",
    "Project maintainers are responsible for clarifying the standards of acceptable behavior and are expected to take appropriate and fair corrective action in response to any instances of unacceptable behavior.\n",
    "\n",
    "Project maintainers have the right and responsibility to remove, edit, or reject comments, commits, code, wiki edits, issues, and other contributions that are not aligned to this Code of Conduct, or to ban temporarily or permanently any contributor for other behaviors that they deem inappropriate, threatening, offensive, or harmful.\n",
    "\n",
    "## Scope\n",
    "\n",
    "This Code of Conduct applies both within project spaces and in public spaces when an individual is representing the project or its community. \n",
    "Examples of representing a project or community include using an official project e-mail address, posting via an official social media account, or acting as an appointed representative at an online or offline event. \n",
    "Representation of a project may be further defined and clarified by project maintainers.\n",
    "\n",
    "\n",
    "\n",
    "## Attribution\n",
    "\n",
    "This Code of Conduct is adapted from the [Contributor Covenant][homepage], version 1.4,\n",
    "available at https://www.contributor-covenant.org/version/1/4/code-of-conduct.html\n"
   ]
  },
  {
   "cell_type": "code",
   "execution_count": null,
   "id": "443d84a1",
   "metadata": {},
   "outputs": [],
   "source": []
  }
 ],
 "metadata": {
  "kernelspec": {
   "display_name": "NSM_env",
   "language": "python",
   "name": "nsm_env"
  },
  "language_info": {
   "codemirror_mode": {
    "name": "ipython",
    "version": 3
   },
   "file_extension": ".py",
   "mimetype": "text/x-python",
   "name": "python",
   "nbconvert_exporter": "python",
   "pygments_lexer": "ipython3",
   "version": "3.9.12"
  }
 },
 "nbformat": 4,
 "nbformat_minor": 5
}
